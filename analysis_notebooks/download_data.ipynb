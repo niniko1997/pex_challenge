{
 "cells": [
  {
   "cell_type": "markdown",
   "metadata": {},
   "source": [
    "# Part 1: Create labeled image dataset with two classes\n",
    "\n",
    "1. Indoor photographs (e.g. Bedrooms, Bathrooms, Classrooms, Offices) \n",
    "2. Outdoor photographs (e.g. Landscapes, Skyscrapers, Mountains, Beaches)"
   ]
  },
  {
   "cell_type": "markdown",
   "metadata": {},
   "source": [
    "## Setup"
   ]
  },
  {
   "cell_type": "code",
   "execution_count": null,
   "metadata": {},
   "outputs": [],
   "source": [
    "import numpy as np\n",
    "import pandas as pd\n",
    "from pathlib import Path\n",
    "import os\n",
    "import math\n",
    "import seaborn\n",
    "import matplotlib.pyplot as plt\n",
    "import sklearn\n",
    "from glob import glob\n",
    "import tensorflow as tf\n",
    "from IPython.display import YouTubeVideo"
   ]
  },
  {
   "cell_type": "code",
   "execution_count": null,
   "metadata": {},
   "outputs": [],
   "source": [
    "%pwd"
   ]
  },
  {
   "cell_type": "code",
   "execution_count": null,
   "metadata": {
    "collapsed": true
   },
   "outputs": [],
   "source": [
    "# project directory\n",
    "project_dir = Path('/Users/administrator/Documents/pex_challenge/')\n",
    "data_dir = project_dir.joinpath('data/yt8m/frame')"
   ]
  },
  {
   "cell_type": "markdown",
   "metadata": {},
   "source": [
    "## Step 1\n",
    "Download a subset of examples from the YouTube-8M labeled video dataset: https://research.google.com/youtube8m/explore.html"
   ]
  },
  {
   "cell_type": "code",
   "execution_count": null,
   "metadata": {},
   "outputs": [],
   "source": [
    "# change directories into data_dir, where we want to download the data\n",
    "%cd {data_dir}"
   ]
  },
  {
   "cell_type": "code",
   "execution_count": null,
   "metadata": {},
   "outputs": [
    {
     "name": "stdout",
     "output_type": "stream",
     "text": [
      ">> Downloading http://us.data.yt8m.org/2/frame/train/train4f.tfrecord 46.9%://us.data.yt8m.org/2/frame/train/train4f.tfrecord 25.0%http://us.data.yt8m.org/2/frame/train/train4f.tfrecord 25.1%ing http://us.data.yt8m.org/2/frame/train/train4f.tfrecord 25.2%loading http://us.data.yt8m.org/2/frame/train/train4f.tfrecord 25.3%Downloading http://us.data.yt8m.org/2/frame/train/train4f.tfrecord 25.4%org/2/frame/train/train4f.tfrecord 25.5%5.9%rd 25.9%record 26.0%://us.data.yt8m.org/2/frame/train/train4f.tfrecord 26.1%n/train4f.tfrecord 26.3%train/train4f.tfrecord 26.3%org/2/frame/train/train4f.tfrecord 26.4%org/2/frame/train/train4f.tfrecord 26.6%6.8%6.9%rd 27.0%s.data.yt8m.org/2/frame/train/train4f.tfrecord 27.1%org/2/frame/train/train4f.tfrecord 27.2%t8m.org/2/frame/train/train4f.tfrecord 27.4%ta.yt8m.org/2/frame/train/train4f.tfrecord 27.5%f.tfrecord 27.6%http://us.data.yt8m.org/2/frame/train/train4f.tfrecord 27.7%ing http://us.data.yt8m.org/2/frame/train/train4f.tfrecord 27.8%ame/train/train4f.tfrecord 27.9%org/2/frame/train/train4f.tfrecord 28.0%8.1%ta.yt8m.org/2/frame/train/train4f.tfrecord 28.2%s.data.yt8m.org/2/frame/train/train4f.tfrecord 28.3%8.4%rd 28.5%record 28.6%f.tfrecord 28.7%ain4f.tfrecord 28.8%n/train4f.tfrecord 28.8%train/train4f.tfrecord 28.9%Downloading http://us.data.yt8m.org/2/frame/train/train4f.tfrecord 29.0%9.2%rd 29.3%s.data.yt8m.org/2/frame/train/train4f.tfrecord 29.4%ain4f.tfrecord 29.5%n/train4f.tfrecord 29.6%train/train4f.tfrecord 29.7%ame/train/train4f.tfrecord 29.8%2/frame/train/train4f.tfrecord 29.9%org/2/frame/train/train4f.tfrecord 29.9%t8m.org/2/frame/train/train4f.tfrecord 30.0%ta.yt8m.org/2/frame/train/train4f.tfrecord 30.1%f.tfrecord 30.2%0.3%rd 30.4%s.data.yt8m.org/2/frame/train/train4f.tfrecord 30.5%org/2/frame/train/train4f.tfrecord 30.6%t8m.org/2/frame/train/train4f.tfrecord 30.6%ta.yt8m.org/2/frame/train/train4f.tfrecord 30.7%org/2/frame/train/train4f.tfrecord 30.8%t8m.org/2/frame/train/train4f.tfrecord 30.9%ta.yt8m.org/2/frame/train/train4f.tfrecord 30.9%s.data.yt8m.org/2/frame/train/train4f.tfrecord 31.0%://us.data.yt8m.org/2/frame/train/train4f.tfrecord 31.1%http://us.data.yt8m.org/2/frame/train/train4f.tfrecord 31.2%ing http://us.data.yt8m.org/2/frame/train/train4f.tfrecord 31.3%loading http://us.data.yt8m.org/2/frame/train/train4f.tfrecord 31.3%Downloading http://us.data.yt8m.org/2/frame/train/train4f.tfrecord 31.4%1.6%rd 31.7%record 31.8%f.tfrecord 31.8%ain4f.tfrecord 31.9%ing http://us.data.yt8m.org/2/frame/train/train4f.tfrecord 32.0%org/2/frame/train/train4f.tfrecord 32.1%2.3%rd 32.3%record 32.4%f.tfrecord 32.5%org/2/frame/train/train4f.tfrecord 32.6%t8m.org/2/frame/train/train4f.tfrecord 32.7%ta.yt8m.org/2/frame/train/train4f.tfrecord 32.7%s.data.yt8m.org/2/frame/train/train4f.tfrecord 32.8%://us.data.yt8m.org/2/frame/train/train4f.tfrecord 32.9%http://us.data.yt8m.org/2/frame/train/train4f.tfrecord 33.0%ing http://us.data.yt8m.org/2/frame/train/train4f.tfrecord 33.1%loading http://us.data.yt8m.org/2/frame/train/train4f.tfrecord 33.2%Downloading http://us.data.yt8m.org/2/frame/train/train4f.tfrecord 33.2%3.4%rd 33.5%3.6%org/2/frame/train/train4f.tfrecord 33.7%org/2/frame/train/train4f.tfrecord 33.7%t8m.org/2/frame/train/train4f.tfrecord 33.8%record 34.0%f.tfrecord 34.0%ain4f.tfrecord 34.1%n/train4f.tfrecord 34.2%train/train4f.tfrecord 34.3%ame/train/train4f.tfrecord 34.4%2/frame/train/train4f.tfrecord 34.4%org/2/frame/train/train4f.tfrecord 34.5%t8m.org/2/frame/train/train4f.tfrecord 34.6%ta.yt8m.org/2/frame/train/train4f.tfrecord 34.7%s.data.yt8m.org/2/frame/train/train4f.tfrecord 34.8%://us.data.yt8m.org/2/frame/train/train4f.tfrecord 34.9%http://us.data.yt8m.org/2/frame/train/train4f.tfrecord 34.9%ing http://us.data.yt8m.org/2/frame/train/train4f.tfrecord 35.0%loading http://us.data.yt8m.org/2/frame/train/train4f.tfrecord 35.1%ame/train/train4f.tfrecord 35.1%Downloading http://us.data.yt8m.org/2/frame/train/train4f.tfrecord 35.2%5.3%rd 35.4%record 35.5%t8m.org/2/frame/train/train4f.tfrecord 35.6%5.7%5.8%org/2/frame/train/train4f.tfrecord 35.9%5.9%rd 36.0%record 36.1%f.tfrecord 36.2%ain4f.tfrecord 36.3%n/train4f.tfrecord 36.3%org/2/frame/train/train4f.tfrecord 36.4%rd 36.5%record 36.6%://us.data.yt8m.org/2/frame/train/train4f.tfrecord 36.7%http://us.data.yt8m.org/2/frame/train/train4f.tfrecord 36.8%ing http://us.data.yt8m.org/2/frame/train/train4f.tfrecord 36.9%loading http://us.data.yt8m.org/2/frame/train/train4f.tfrecord 37.0%Downloading http://us.data.yt8m.org/2/frame/train/train4f.tfrecord 37.1%org/2/frame/train/train4f.tfrecord 37.2%t8m.org/2/frame/train/train4f.tfrecord 37.3%rd 37.3%record 37.4%://us.data.yt8m.org/2/frame/train/train4f.tfrecord 37.5%http://us.data.yt8m.org/2/frame/train/train4f.tfrecord 37.6%train/train4f.tfrecord 37.7%Downloading http://us.data.yt8m.org/2/frame/train/train4f.tfrecord 37.9%t8m.org/2/frame/train/train4f.tfrecord 38.1%ta.yt8m.org/2/frame/train/train4f.tfrecord 38.1%s.data.yt8m.org/2/frame/train/train4f.tfrecord 38.2%ain4f.tfrecord 38.3%http://us.data.yt8m.org/2/frame/train/train4f.tfrecord 38.4%train/train4f.tfrecord 38.5%ame/train/train4f.tfrecord 38.6%org/2/frame/train/train4f.tfrecord 38.7%org/2/frame/train/train4f.tfrecord 38.7%t8m.org/2/frame/train/train4f.tfrecord 38.8%ta.yt8m.org/2/frame/train/train4f.tfrecord 38.9%s.data.yt8m.org/2/frame/train/train4f.tfrecord 39.0%://us.data.yt8m.org/2/frame/train/train4f.tfrecord 39.0%http://us.data.yt8m.org/2/frame/train/train4f.tfrecord 39.1%ing http://us.data.yt8m.org/2/frame/train/train4f.tfrecord 39.2%loading http://us.data.yt8m.org/2/frame/train/train4f.tfrecord 39.3%Downloading http://us.data.yt8m.org/2/frame/train/train4f.tfrecord 39.4%org/2/frame/train/train4f.tfrecord 39.5%t8m.org/2/frame/train/train4f.tfrecord 39.6%record 39.7%f.tfrecord 39.8%ain4f.tfrecord 39.9%ing http://us.data.yt8m.org/2/frame/train/train4f.tfrecord 40.0%loading http://us.data.yt8m.org/2/frame/train/train4f.tfrecord 40.1%2/frame/train/train4f.tfrecord 40.2%0.3%rd 40.4%s.data.yt8m.org/2/frame/train/train4f.tfrecord 40.5%ain4f.tfrecord 40.6%n/train4f.tfrecord 40.7%loading http://us.data.yt8m.org/2/frame/train/train4f.tfrecord 40.8%Downloading http://us.data.yt8m.org/2/frame/train/train4f.tfrecord 40.9%t8m.org/2/frame/train/train4f.tfrecord 41.1%ta.yt8m.org/2/frame/train/train4f.tfrecord 41.2%f.tfrecord 41.3%http://us.data.yt8m.org/2/frame/train/train4f.tfrecord 41.4%ing http://us.data.yt8m.org/2/frame/train/train4f.tfrecord 41.5%ame/train/train4f.tfrecord 41.6%1.9%ta.yt8m.org/2/frame/train/train4f.tfrecord 42.0%s.data.yt8m.org/2/frame/train/train4f.tfrecord 42.1%://us.data.yt8m.org/2/frame/train/train4f.tfrecord 42.1%n/train4f.tfrecord 42.3%train/train4f.tfrecord 42.3%ame/train/train4f.tfrecord 42.4%2/frame/train/train4f.tfrecord 42.5%2.6%rd 42.7%record 42.8%f.tfrecord 42.9%ain4f.tfrecord 43.0%ing http://us.data.yt8m.org/2/frame/train/train4f.tfrecord 43.1%loading http://us.data.yt8m.org/2/frame/train/train4f.tfrecord 43.2%Downloading http://us.data.yt8m.org/2/frame/train/train4f.tfrecord 43.2%3.4%rd 43.5%record 43.6%f.tfrecord 43.6%3.8%rd 43.9%record 43.9%://us.data.yt8m.org/2/frame/train/train4f.tfrecord 44.1%http://us.data.yt8m.org/2/frame/train/train4f.tfrecord 44.2%train/train4f.tfrecord 44.3%Downloading http://us.data.yt8m.org/2/frame/train/train4f.tfrecord 44.4%4.6%rd 44.6%s.data.yt8m.org/2/frame/train/train4f.tfrecord 44.8%://us.data.yt8m.org/2/frame/train/train4f.tfrecord 44.8%http://us.data.yt8m.org/2/frame/train/train4f.tfrecord 44.9%train/train4f.tfrecord 45.1%ame/train/train4f.tfrecord 45.1%2/frame/train/train4f.tfrecord 45.2%org/2/frame/train/train4f.tfrecord 45.3%rd 45.4%s.data.yt8m.org/2/frame/train/train4f.tfrecord 45.5%://us.data.yt8m.org/2/frame/train/train4f.tfrecord 45.6%n/train4f.tfrecord 45.7%loading http://us.data.yt8m.org/2/frame/train/train4f.tfrecord 45.9%Downloading http://us.data.yt8m.org/2/frame/train/train4f.tfrecord 45.9%org/2/frame/train/train4f.tfrecord 46.1%rd 46.2%record 46.3%://us.data.yt8m.org/2/frame/train/train4f.tfrecord 46.4%http://us.data.yt8m.org/2/frame/train/train4f.tfrecord 46.5%ing http://us.data.yt8m.org/2/frame/train/train4f.tfrecord 46.6%ame/train/train4f.tfrecord 46.7%2/frame/train/train4f.tfrecord 46.8%"
     ]
    },
    {
     "name": "stdout",
     "output_type": "stream",
     "text": [
      ">> Downloading http://us.data.yt8m.org/2/frame/train/train4f.tfrecord 69.0%s.data.yt8m.org/2/frame/train/train4f.tfrecord 47.1%ain4f.tfrecord 47.2%ing http://us.data.yt8m.org/2/frame/train/train4f.tfrecord 47.3%loading http://us.data.yt8m.org/2/frame/train/train4f.tfrecord 47.4%2/frame/train/train4f.tfrecord 47.5%7.7%rd 47.7%s.data.yt8m.org/2/frame/train/train4f.tfrecord 47.9%ain4f.tfrecord 48.0%n/train4f.tfrecord 48.1%train/train4f.tfrecord 48.2%ame/train/train4f.tfrecord 48.2%t8m.org/2/frame/train/train4f.tfrecord 48.5%ta.yt8m.org/2/frame/train/train4f.tfrecord 48.6%f.tfrecord 48.7%http://us.data.yt8m.org/2/frame/train/train4f.tfrecord 48.8%ing http://us.data.yt8m.org/2/frame/train/train4f.tfrecord 48.9%org/2/frame/train/train4f.tfrecord 49.0%rd 49.1%record 49.2%://us.data.yt8m.org/2/frame/train/train4f.tfrecord 49.3%n/train4f.tfrecord 49.4%train/train4f.tfrecord 49.5%Downloading http://us.data.yt8m.org/2/frame/train/train4f.tfrecord 49.7%9.8%ta.yt8m.org/2/frame/train/train4f.tfrecord 49.9%s.data.yt8m.org/2/frame/train/train4f.tfrecord 50.0%org/2/frame/train/train4f.tfrecord 50.1%t8m.org/2/frame/train/train4f.tfrecord 50.2%ta.yt8m.org/2/frame/train/train4f.tfrecord 50.3%s.data.yt8m.org/2/frame/train/train4f.tfrecord 50.3%://us.data.yt8m.org/2/frame/train/train4f.tfrecord 50.4%http://us.data.yt8m.org/2/frame/train/train4f.tfrecord 50.5%ing http://us.data.yt8m.org/2/frame/train/train4f.tfrecord 50.6%loading http://us.data.yt8m.org/2/frame/train/train4f.tfrecord 50.7%Downloading http://us.data.yt8m.org/2/frame/train/train4f.tfrecord 50.8%0.9%rd 51.0%ta.yt8m.org/2/frame/train/train4f.tfrecord 51.0%s.data.yt8m.org/2/frame/train/train4f.tfrecord 51.1%://us.data.yt8m.org/2/frame/train/train4f.tfrecord 51.2%http://us.data.yt8m.org/2/frame/train/train4f.tfrecord 51.3%ing http://us.data.yt8m.org/2/frame/train/train4f.tfrecord 51.4%loading http://us.data.yt8m.org/2/frame/train/train4f.tfrecord 51.5%Downloading http://us.data.yt8m.org/2/frame/train/train4f.tfrecord 51.5%org/2/frame/train/train4f.tfrecord 51.7%t8m.org/2/frame/train/train4f.tfrecord 51.7%ta.yt8m.org/2/frame/train/train4f.tfrecord 51.8%s.data.yt8m.org/2/frame/train/train4f.tfrecord 51.9%://us.data.yt8m.org/2/frame/train/train4f.tfrecord 52.0%http://us.data.yt8m.org/2/frame/train/train4f.tfrecord 52.1%ing http://us.data.yt8m.org/2/frame/train/train4f.tfrecord 52.1%ame/train/train4f.tfrecord 52.3%2.5%rd 52.6%record 52.6%://us.data.yt8m.org/2/frame/train/train4f.tfrecord 52.8%n/train4f.tfrecord 52.9%train/train4f.tfrecord 53.0%ame/train/train4f.tfrecord 53.0%2/frame/train/train4f.tfrecord 53.1%org/2/frame/train/train4f.tfrecord 53.2%t8m.org/2/frame/train/train4f.tfrecord 53.3%record 53.4%://us.data.yt8m.org/2/frame/train/train4f.tfrecord 53.5%http://us.data.yt8m.org/2/frame/train/train4f.tfrecord 53.6%ing http://us.data.yt8m.org/2/frame/train/train4f.tfrecord 53.7%loading http://us.data.yt8m.org/2/frame/train/train4f.tfrecord 53.8%Downloading http://us.data.yt8m.org/2/frame/train/train4f.tfrecord 53.9%4.0%rd 54.1%s.data.yt8m.org/2/frame/train/train4f.tfrecord 54.2%ain4f.tfrecord 54.3%n/train4f.tfrecord 54.4%ing http://us.data.yt8m.org/2/frame/train/train4f.tfrecord 54.5%loading http://us.data.yt8m.org/2/frame/train/train4f.tfrecord 54.6%Downloading http://us.data.yt8m.org/2/frame/train/train4f.tfrecord 54.6%4.8%rd 54.9%org/2/frame/train/train4f.tfrecord 55.0%rd 55.2%record 55.2%://us.data.yt8m.org/2/frame/train/train4f.tfrecord 55.4%http://us.data.yt8m.org/2/frame/train/train4f.tfrecord 55.4%ing http://us.data.yt8m.org/2/frame/train/train4f.tfrecord 55.5%ame/train/train4f.tfrecord 55.6%2/frame/train/train4f.tfrecord 55.7%org/2/frame/train/train4f.tfrecord 55.8%t8m.org/2/frame/train/train4f.tfrecord 55.9%ta.yt8m.org/2/frame/train/train4f.tfrecord 56.0%s.data.yt8m.org/2/frame/train/train4f.tfrecord 56.1%://us.data.yt8m.org/2/frame/train/train4f.tfrecord 56.2%http://us.data.yt8m.org/2/frame/train/train4f.tfrecord 56.2%ing http://us.data.yt8m.org/2/frame/train/train4f.tfrecord 56.3%loading http://us.data.yt8m.org/2/frame/train/train4f.tfrecord 56.4%Downloading http://us.data.yt8m.org/2/frame/train/train4f.tfrecord 56.5%6.7%6.9%ta.yt8m.org/2/frame/train/train4f.tfrecord 57.0%org/2/frame/train/train4f.tfrecord 57.1%rd 57.2%s.data.yt8m.org/2/frame/train/train4f.tfrecord 57.3%://us.data.yt8m.org/2/frame/train/train4f.tfrecord 57.4%n/train4f.tfrecord 57.5%loading http://us.data.yt8m.org/2/frame/train/train4f.tfrecord 57.6%Downloading http://us.data.yt8m.org/2/frame/train/train4f.tfrecord 57.7%org/2/frame/train/train4f.tfrecord 57.8%rd 57.9%record 58.0%://us.data.yt8m.org/2/frame/train/train4f.tfrecord 58.2%n/train4f.tfrecord 58.3%train/train4f.tfrecord 58.4%ame/train/train4f.tfrecord 58.4%2/frame/train/train4f.tfrecord 58.5%8.6%ta.yt8m.org/2/frame/train/train4f.tfrecord 58.8%s.data.yt8m.org/2/frame/train/train4f.tfrecord 58.8%ain4f.tfrecord 59.0%ing http://us.data.yt8m.org/2/frame/train/train4f.tfrecord 59.1%loading http://us.data.yt8m.org/2/frame/train/train4f.tfrecord 59.2%2/frame/train/train4f.tfrecord 59.3%9.4%rd 59.5%s.data.yt8m.org/2/frame/train/train4f.tfrecord 59.6%9.8%ta.yt8m.org/2/frame/train/train4f.tfrecord 59.9%f.tfrecord 60.1%ain4f.tfrecord 60.1%n/train4f.tfrecord 60.2%train/train4f.tfrecord 60.3%Downloading http://us.data.yt8m.org/2/frame/train/train4f.tfrecord 60.4%org/2/frame/train/train4f.tfrecord 60.5%t8m.org/2/frame/train/train4f.tfrecord 60.6%ta.yt8m.org/2/frame/train/train4f.tfrecord 60.7%s.data.yt8m.org/2/frame/train/train4f.tfrecord 60.8%ain4f.tfrecord 60.9%n/train4f.tfrecord 61.0%train/train4f.tfrecord 61.1%Downloading http://us.data.yt8m.org/2/frame/train/train4f.tfrecord 61.2%1.4%rd 61.4%s.data.yt8m.org/2/frame/train/train4f.tfrecord 61.6%://us.data.yt8m.org/2/frame/train/train4f.tfrecord 61.6%http://us.data.yt8m.org/2/frame/train/train4f.tfrecord 61.7%train/train4f.tfrecord 61.8%ame/train/train4f.tfrecord 61.9%t8m.org/2/frame/train/train4f.tfrecord 62.2%2.4%ta.yt8m.org/2/frame/train/train4f.tfrecord 62.5%f.tfrecord 62.7%ain4f.tfrecord 62.7%ing http://us.data.yt8m.org/2/frame/train/train4f.tfrecord 62.9%ame/train/train4f.tfrecord 63.0%2/frame/train/train4f.tfrecord 63.1%org/2/frame/train/train4f.tfrecord 63.2%t8m.org/2/frame/train/train4f.tfrecord 63.2%record 63.4%org/2/frame/train/train4f.tfrecord 63.4%t8m.org/2/frame/train/train4f.tfrecord 63.5%record 63.6%f.tfrecord 63.7%3.9%rd 64.0%s.data.yt8m.org/2/frame/train/train4f.tfrecord 64.1%://us.data.yt8m.org/2/frame/train/train4f.tfrecord 64.2%n/train4f.tfrecord 64.3%loading http://us.data.yt8m.org/2/frame/train/train4f.tfrecord 64.5%Downloading http://us.data.yt8m.org/2/frame/train/train4f.tfrecord 64.5%4.7%ta.yt8m.org/2/frame/train/train4f.tfrecord 64.8%f.tfrecord 65.0%ain4f.tfrecord 65.0%ing http://us.data.yt8m.org/2/frame/train/train4f.tfrecord 65.2%org/2/frame/train/train4f.tfrecord 65.2%t8m.org/2/frame/train/train4f.tfrecord 65.3%ta.yt8m.org/2/frame/train/train4f.tfrecord 65.4%s.data.yt8m.org/2/frame/train/train4f.tfrecord 65.5%ain4f.tfrecord 65.6%n/train4f.tfrecord 65.7%loading http://us.data.yt8m.org/2/frame/train/train4f.tfrecord 65.8%2/frame/train/train4f.tfrecord 65.9%org/2/frame/train/train4f.tfrecord 66.0%t8m.org/2/frame/train/train4f.tfrecord 66.1%ta.yt8m.org/2/frame/train/train4f.tfrecord 66.2%f.tfrecord 66.3%ain4f.tfrecord 66.4%org/2/frame/train/train4f.tfrecord 66.6%rd 66.8%record 66.8%://us.data.yt8m.org/2/frame/train/train4f.tfrecord 67.0%n/train4f.tfrecord 67.1%train/train4f.tfrecord 67.2%ame/train/train4f.tfrecord 67.2%2/frame/train/train4f.tfrecord 67.3%org/2/frame/train/train4f.tfrecord 67.4%t8m.org/2/frame/train/train4f.tfrecord 67.5%ta.yt8m.org/2/frame/train/train4f.tfrecord 67.6%s.data.yt8m.org/2/frame/train/train4f.tfrecord 67.7%://us.data.yt8m.org/2/frame/train/train4f.tfrecord 67.7%http://us.data.yt8m.org/2/frame/train/train4f.tfrecord 67.8%train/train4f.tfrecord 67.9%org/2/frame/train/train4f.tfrecord 68.0%t8m.org/2/frame/train/train4f.tfrecord 68.1%ta.yt8m.org/2/frame/train/train4f.tfrecord 68.2%f.tfrecord 68.3%http://us.data.yt8m.org/2/frame/train/train4f.tfrecord 68.4%ing http://us.data.yt8m.org/2/frame/train/train4f.tfrecord 68.5%ame/train/train4f.tfrecord 68.6%8.8%ta.yt8m.org/2/frame/train/train4f.tfrecord 68.9%"
     ]
    },
    {
     "name": "stdout",
     "output_type": "stream",
     "text": [
      ">> Downloading http://us.data.yt8m.org/2/frame/train/train4f.tfrecord 92.2%n/train4f.tfrecord 69.2%train/train4f.tfrecord 69.3%Downloading http://us.data.yt8m.org/2/frame/train/train4f.tfrecord 69.4%9.6%rd 69.7%record 69.7%s.data.yt8m.org/2/frame/train/train4f.tfrecord 69.8%://us.data.yt8m.org/2/frame/train/train4f.tfrecord 69.9%http://us.data.yt8m.org/2/frame/train/train4f.tfrecord 69.9%ing http://us.data.yt8m.org/2/frame/train/train4f.tfrecord 70.0%loading http://us.data.yt8m.org/2/frame/train/train4f.tfrecord 70.1%Downloading http://us.data.yt8m.org/2/frame/train/train4f.tfrecord 70.2%0.4%rd 70.4%record 70.5%f.tfrecord 70.6%http://us.data.yt8m.org/2/frame/train/train4f.tfrecord 70.7%t8m.org/2/frame/train/train4f.tfrecord 70.9%record 71.0%f.tfrecord 71.1%org/2/frame/train/train4f.tfrecord 71.4%rd 71.5%record 71.6%://us.data.yt8m.org/2/frame/train/train4f.tfrecord 71.7%n/train4f.tfrecord 71.8%train/train4f.tfrecord 71.9%ame/train/train4f.tfrecord 72.0%2/frame/train/train4f.tfrecord 72.1%org/2/frame/train/train4f.tfrecord 72.1%t8m.org/2/frame/train/train4f.tfrecord 72.2%ta.yt8m.org/2/frame/train/train4f.tfrecord 72.3%s.data.yt8m.org/2/frame/train/train4f.tfrecord 72.4%ain4f.tfrecord 72.5%n/train4f.tfrecord 72.6%train/train4f.tfrecord 72.7%ame/train/train4f.tfrecord 72.8%2/frame/train/train4f.tfrecord 72.8%org/2/frame/train/train4f.tfrecord 72.9%t8m.org/2/frame/train/train4f.tfrecord 73.0%ta.yt8m.org/2/frame/train/train4f.tfrecord 73.1%s.data.yt8m.org/2/frame/train/train4f.tfrecord 73.2%ain4f.tfrecord 73.3%n/train4f.tfrecord 73.4%train/train4f.tfrecord 73.4%ame/train/train4f.tfrecord 73.5%t8m.org/2/frame/train/train4f.tfrecord 73.8%ta.yt8m.org/2/frame/train/train4f.tfrecord 73.9%s.data.yt8m.org/2/frame/train/train4f.tfrecord 73.9%://us.data.yt8m.org/2/frame/train/train4f.tfrecord 74.0%http://us.data.yt8m.org/2/frame/train/train4f.tfrecord 74.1%ing http://us.data.yt8m.org/2/frame/train/train4f.tfrecord 74.2%loading http://us.data.yt8m.org/2/frame/train/train4f.tfrecord 74.3%Downloading http://us.data.yt8m.org/2/frame/train/train4f.tfrecord 74.3%4.5%rd 74.6%record 74.7%f.tfrecord 74.8%ain4f.tfrecord 74.8%n/train4f.tfrecord 74.9%train/train4f.tfrecord 75.0%Downloading http://us.data.yt8m.org/2/frame/train/train4f.tfrecord 75.1%5.3%rd 75.4%record 75.4%f.tfrecord 75.5%ain4f.tfrecord 75.6%n/train4f.tfrecord 75.7%5.8%rd 75.9%record 76.0%6.1%6.3%org/2/frame/train/train4f.tfrecord 76.3%6.5%org/2/frame/train/train4f.tfrecord 76.5%org/2/frame/train/train4f.tfrecord 76.6%t8m.org/2/frame/train/train4f.tfrecord 76.7%ta.yt8m.org/2/frame/train/train4f.tfrecord 76.8%s.data.yt8m.org/2/frame/train/train4f.tfrecord 76.9%://us.data.yt8m.org/2/frame/train/train4f.tfrecord 77.0%http://us.data.yt8m.org/2/frame/train/train4f.tfrecord 77.0%ing http://us.data.yt8m.org/2/frame/train/train4f.tfrecord 77.1%loading http://us.data.yt8m.org/2/frame/train/train4f.tfrecord 77.2%Downloading http://us.data.yt8m.org/2/frame/train/train4f.tfrecord 77.3%7.5%rd 77.5%ta.yt8m.org/2/frame/train/train4f.tfrecord 77.6%s.data.yt8m.org/2/frame/train/train4f.tfrecord 77.7%://us.data.yt8m.org/2/frame/train/train4f.tfrecord 77.7%http://us.data.yt8m.org/2/frame/train/train4f.tfrecord 77.8%ing http://us.data.yt8m.org/2/frame/train/train4f.tfrecord 77.9%loading http://us.data.yt8m.org/2/frame/train/train4f.tfrecord 78.0%Downloading http://us.data.yt8m.org/2/frame/train/train4f.tfrecord 78.1%8.2%ta.yt8m.org/2/frame/train/train4f.tfrecord 78.4%s.data.yt8m.org/2/frame/train/train4f.tfrecord 78.4%ain4f.tfrecord 78.6%ing http://us.data.yt8m.org/2/frame/train/train4f.tfrecord 78.7%loading http://us.data.yt8m.org/2/frame/train/train4f.tfrecord 78.8%Downloading http://us.data.yt8m.org/2/frame/train/train4f.tfrecord 78.8%t8m.org/2/frame/train/train4f.tfrecord 79.0%record 79.2%f.tfrecord 79.2%http://us.data.yt8m.org/2/frame/train/train4f.tfrecord 79.4%train/train4f.tfrecord 79.5%ame/train/train4f.tfrecord 79.6%t8m.org/2/frame/train/train4f.tfrecord 79.8%ta.yt8m.org/2/frame/train/train4f.tfrecord 79.9%f.tfrecord 80.0%http://us.data.yt8m.org/2/frame/train/train4f.tfrecord 80.1%ing http://us.data.yt8m.org/2/frame/train/train4f.tfrecord 80.2%ame/train/train4f.tfrecord 80.4%0.6%ta.yt8m.org/2/frame/train/train4f.tfrecord 80.7%f.tfrecord 80.8%ain4f.tfrecord 80.9%ing http://us.data.yt8m.org/2/frame/train/train4f.tfrecord 81.0%ame/train/train4f.tfrecord 81.1%2/frame/train/train4f.tfrecord 81.2%org/2/frame/train/train4f.tfrecord 81.3%t8m.org/2/frame/train/train4f.tfrecord 81.4%record 81.5%://us.data.yt8m.org/2/frame/train/train4f.tfrecord 81.6%http://us.data.yt8m.org/2/frame/train/train4f.tfrecord 81.7%train/train4f.tfrecord 81.8%org/2/frame/train/train4f.tfrecord 82.0%rd 82.1%record 82.2%://us.data.yt8m.org/2/frame/train/train4f.tfrecord 82.3%n/train4f.tfrecord 82.4%train/train4f.tfrecord 82.5%Downloading http://us.data.yt8m.org/2/frame/train/train4f.tfrecord 82.6%org/2/frame/train/train4f.tfrecord 82.8%t8m.org/2/frame/train/train4f.tfrecord 82.8%record 83.0%://us.data.yt8m.org/2/frame/train/train4f.tfrecord 83.1%http://us.data.yt8m.org/2/frame/train/train4f.tfrecord 83.2%ing http://us.data.yt8m.org/2/frame/train/train4f.tfrecord 83.2%loading http://us.data.yt8m.org/2/frame/train/train4f.tfrecord 83.3%2/frame/train/train4f.tfrecord 83.4%3.6%rd 83.7%s.data.yt8m.org/2/frame/train/train4f.tfrecord 83.8%ain4f.tfrecord 83.9%n/train4f.tfrecord 84.0%train/train4f.tfrecord 84.1%ame/train/train4f.tfrecord 84.1%t8m.org/2/frame/train/train4f.tfrecord 84.4%ta.yt8m.org/2/frame/train/train4f.tfrecord 84.5%f.tfrecord 84.6%http://us.data.yt8m.org/2/frame/train/train4f.tfrecord 84.7%ing http://us.data.yt8m.org/2/frame/train/train4f.tfrecord 84.8%loading http://us.data.yt8m.org/2/frame/train/train4f.tfrecord 84.9%Downloading http://us.data.yt8m.org/2/frame/train/train4f.tfrecord 85.0%org/2/frame/train/train4f.tfrecord 85.1%t8m.org/2/frame/train/train4f.tfrecord 85.2%ta.yt8m.org/2/frame/train/train4f.tfrecord 85.2%f.tfrecord 85.4%ain4f.tfrecord 85.4%ing http://us.data.yt8m.org/2/frame/train/train4f.tfrecord 85.6%ame/train/train4f.tfrecord 85.7%2/frame/train/train4f.tfrecord 85.8%5.9%ta.yt8m.org/2/frame/train/train4f.tfrecord 86.0%s.data.yt8m.org/2/frame/train/train4f.tfrecord 86.1%ain4f.tfrecord 86.2%ing http://us.data.yt8m.org/2/frame/train/train4f.tfrecord 86.3%loading http://us.data.yt8m.org/2/frame/train/train4f.tfrecord 86.4%Downloading http://us.data.yt8m.org/2/frame/train/train4f.tfrecord 86.5%t8m.org/2/frame/train/train4f.tfrecord 86.7%record 86.8%f.tfrecord 86.9%http://us.data.yt8m.org/2/frame/train/train4f.tfrecord 87.0%train/train4f.tfrecord 87.2%ame/train/train4f.tfrecord 87.2%2/frame/train/train4f.tfrecord 87.3%org/2/frame/train/train4f.tfrecord 87.4%rd 87.5%s.data.yt8m.org/2/frame/train/train4f.tfrecord 87.7%f.tfrecord 87.7%ain4f.tfrecord 87.8%n/train4f.tfrecord 87.9%loading http://us.data.yt8m.org/2/frame/train/train4f.tfrecord 88.0%ame/train/train4f.tfrecord 88.0%8.2%ta.yt8m.org/2/frame/train/train4f.tfrecord 88.3%f.tfrecord 88.5%ain4f.tfrecord 88.5%n/train4f.tfrecord 88.6%train/train4f.tfrecord 88.7%Downloading http://us.data.yt8m.org/2/frame/train/train4f.tfrecord 88.8%org/2/frame/train/train4f.tfrecord 89.0%t8m.org/2/frame/train/train4f.tfrecord 89.0%record 89.2%f.tfrecord 89.2%ain4f.tfrecord 89.3%ing http://us.data.yt8m.org/2/frame/train/train4f.tfrecord 89.4%loading http://us.data.yt8m.org/2/frame/train/train4f.tfrecord 89.5%2/frame/train/train4f.tfrecord 89.7%9.8%rd 89.9%s.data.yt8m.org/2/frame/train/train4f.tfrecord 90.0%ain4f.tfrecord 90.1%org/2/frame/train/train4f.tfrecord 90.2%t8m.org/2/frame/train/train4f.tfrecord 90.3%ta.yt8m.org/2/frame/train/train4f.tfrecord 90.3%f.tfrecord 90.5%ain4f.tfrecord 90.5%n/train4f.tfrecord 90.6%train/train4f.tfrecord 90.7%ame/train/train4f.tfrecord 90.8%1.0%ta.yt8m.org/2/frame/train/train4f.tfrecord 91.1%f.tfrecord 91.2%ain4f.tfrecord 91.3%ing http://us.data.yt8m.org/2/frame/train/train4f.tfrecord 91.4%ame/train/train4f.tfrecord 91.6%2/frame/train/train4f.tfrecord 91.6%1.8%ta.yt8m.org/2/frame/train/train4f.tfrecord 91.9%s.data.yt8m.org/2/frame/train/train4f.tfrecord 92.0%://us.data.yt8m.org/2/frame/train/train4f.tfrecord 92.0%http://us.data.yt8m.org/2/frame/train/train4f.tfrecord 92.1%"
     ]
    },
    {
     "name": "stdout",
     "output_type": "stream",
     "text": [
      ">> Downloading http://us.data.yt8m.org/2/frame/train/train4f.tfrecord 100.0%Succesfully downloaded train3477.tfrecord 270452664 bytes.frecord 92.8%ain4f.tfrecord 92.9%n/train4f.tfrecord 92.9%train/train4f.tfrecord 93.0%ame/train/train4f.tfrecord 93.1%2/frame/train/train4f.tfrecord 93.2%org/2/frame/train/train4f.tfrecord 93.3%t8m.org/2/frame/train/train4f.tfrecord 93.4%ta.yt8m.org/2/frame/train/train4f.tfrecord 93.4%s.data.yt8m.org/2/frame/train/train4f.tfrecord 93.5%://us.data.yt8m.org/2/frame/train/train4f.tfrecord 93.6%http://us.data.yt8m.org/2/frame/train/train4f.tfrecord 93.7%ing http://us.data.yt8m.org/2/frame/train/train4f.tfrecord 93.8%ame/train/train4f.tfrecord 93.9%2/frame/train/train4f.tfrecord 94.0%org/2/frame/train/train4f.tfrecord 94.0%t8m.org/2/frame/train/train4f.tfrecord 94.1%ta.yt8m.org/2/frame/train/train4f.tfrecord 94.2%s.data.yt8m.org/2/frame/train/train4f.tfrecord 94.3%://us.data.yt8m.org/2/frame/train/train4f.tfrecord 94.4%http://us.data.yt8m.org/2/frame/train/train4f.tfrecord 94.5%ing http://us.data.yt8m.org/2/frame/train/train4f.tfrecord 94.5%ame/train/train4f.tfrecord 94.7%2/frame/train/train4f.tfrecord 94.7%4.9%ta.yt8m.org/2/frame/train/train4f.tfrecord 95.0%s.data.yt8m.org/2/frame/train/train4f.tfrecord 95.1%ain4f.tfrecord 95.2%ing http://us.data.yt8m.org/2/frame/train/train4f.tfrecord 95.3%loading http://us.data.yt8m.org/2/frame/train/train4f.tfrecord 95.4%Downloading http://us.data.yt8m.org/2/frame/train/train4f.tfrecord 95.5%t8m.org/2/frame/train/train4f.tfrecord 95.7%record 95.8%f.tfrecord 95.9%http://us.data.yt8m.org/2/frame/train/train4f.tfrecord 96.0%ing http://us.data.yt8m.org/2/frame/train/train4f.tfrecord 96.1%loading http://us.data.yt8m.org/2/frame/train/train4f.tfrecord 96.2%Downloading http://us.data.yt8m.org/2/frame/train/train4f.tfrecord 96.3%6.4%rd 96.5%s.data.yt8m.org/2/frame/train/train4f.tfrecord 96.6%://us.data.yt8m.org/2/frame/train/train4f.tfrecord 96.7%http://us.data.yt8m.org/2/frame/train/train4f.tfrecord 96.8%ing http://us.data.yt8m.org/2/frame/train/train4f.tfrecord 96.9%ame/train/train4f.tfrecord 97.0%2/frame/train/train4f.tfrecord 97.1%org/2/frame/train/train4f.tfrecord 97.1%rd 97.3%record 97.4%f.tfrecord 97.4%ain4f.tfrecord 97.5%n/train4f.tfrecord 97.6%train/train4f.tfrecord 97.7%Downloading http://us.data.yt8m.org/2/frame/train/train4f.tfrecord 97.8%org/2/frame/train/train4f.tfrecord 97.9%t8m.org/2/frame/train/train4f.tfrecord 98.0%record 98.1%://us.data.yt8m.org/2/frame/train/train4f.tfrecord 98.3%http://us.data.yt8m.org/2/frame/train/train4f.tfrecord 98.3%train/train4f.tfrecord 98.5%Downloading http://us.data.yt8m.org/2/frame/train/train4f.tfrecord 98.6%t8m.org/2/frame/train/train4f.tfrecord 98.8%ta.yt8m.org/2/frame/train/train4f.tfrecord 98.9%s.data.yt8m.org/2/frame/train/train4f.tfrecord 98.9%://us.data.yt8m.org/2/frame/train/train4f.tfrecord 99.0%http://us.data.yt8m.org/2/frame/train/train4f.tfrecord 99.1%train/train4f.tfrecord 99.2%ame/train/train4f.tfrecord 99.3%t8m.org/2/frame/train/train4f.tfrecord 99.6%ta.yt8m.org/2/frame/train/train4f.tfrecord 99.6%s.data.yt8m.org/2/frame/train/train4f.tfrecord 99.7%://us.data.yt8m.org/2/frame/train/train4f.tfrecord 99.8%n/train4f.tfrecord 99.9%\n"
     ]
    }
   ],
   "source": [
    "# download the 1/100th of the training frame level data\n",
    "!curl data.yt8m.org/download.py | shard=1,100 partition=2/frame/train mirror=us python"
   ]
  },
  {
   "cell_type": "code",
   "execution_count": null,
   "metadata": {
    "collapsed": true
   },
   "outputs": [],
   "source": [
    "# download the 1/100th of the validate frame level data\n",
    "curl data.yt8m.org/download.py | shard=1,20 partition=2/frame/validate mirror=us python"
   ]
  },
  {
   "cell_type": "code",
   "execution_count": null,
   "metadata": {
    "collapsed": true
   },
   "outputs": [],
   "source": [
    "# download the 1/100th of the test frame level data\n",
    "curl data.yt8m.org/download.py | shard=1,20 partition=2/frame/test mirror=us python"
   ]
  },
  {
   "cell_type": "markdown",
   "metadata": {},
   "source": [
    "## Step 2"
   ]
  },
  {
   "cell_type": "markdown",
   "metadata": {},
   "source": [
    "Extract relevant frames from the videos to build a balanced dataset of indoor and outdoor images. The dataset should contain a few thousand images in total. This task can be performed with tools like OpenCV or FFmpeg."
   ]
  },
  {
   "cell_type": "code",
   "execution_count": null,
   "metadata": {
    "collapsed": true
   },
   "outputs": [],
   "source": [
    "def extract_features(features, file):\n",
    "    '''\n",
    "    This function reads the frame level data of one tfrecord file\n",
    "    It goes through all the frames in the video and returns a dataframe where each row\n",
    "    is an image (a frame from the video) and the columns correspond to features extracted\n",
    "    \n",
    "    features: a list of features we want to extract from the tfrecord file\n",
    "    file: the path to a tfrecord file\n",
    "    '''\n",
    "    \n",
    "    # create an empty dataframe where the columns correspend to \n",
    "    # features we will extract\n",
    "    df = pd.DataFrame(columns = features)\n",
    "    \n",
    "    for e in tf.python_io.tf_record_iterator(file):        \n",
    "        tf_seq_example = tf.train.SequenceExample.FromString(e)\n",
    "        # get the number of frames in the cideo\n",
    "        n_frames = len(tf_seq_example.feature_lists.feature_list['audio'].feature)\n",
    "        \n",
    "        # start interactive TF session\n",
    "        sess = tf.InteractiveSession()\n",
    "    \n",
    "        # iterate through frames\n",
    "        for i in range(n_frames):\n",
    "            # create a list containing values of the various features of a certain frame\n",
    "            i_features = []\n",
    "            for feat in features:\n",
    "                # append \n",
    "                i_features.append(\n",
    "                    tf.cast(tf.decode_raw(\n",
    "                    tf_seq_example.feature_lists.feature_list[feat].feature[i].bytes_list.value[0],tf.uint8\n",
    "                ),tf.float32).eval()  \n",
    "                )\n",
    "        \n",
    "    sess.close()\n",
    "    feat_rgb.append(rgb_frame)\n",
    "    feat_audio.append(audio_frame)\n",
    "    break"
   ]
  },
  {
   "cell_type": "code",
   "execution_count": null,
   "metadata": {},
   "outputs": [],
   "source": [
    "# get all the tensor flow files that we are going to read \n",
    "# the tf_files is a list of three elements\n",
    "# the first element is a list of training tf files\n",
    "# the second element is a list of validate tf files\n",
    "# the third element is a list of test tf files\n",
    "tf_files = [[x for x in data_dir.glob('train*.tfrecord')],\n",
    "           [x for x in data_dir.glob('validate*.tfrecord')],\n",
    "           [x for x in data_dir.glob('test*.tfrecord')]]"
   ]
  },
  {
   "cell_type": "code",
   "execution_count": null,
   "metadata": {
    "collapsed": true
   },
   "outputs": [],
   "source": []
  },
  {
   "cell_type": "markdown",
   "metadata": {},
   "source": [
    "## Step 3"
   ]
  },
  {
   "cell_type": "markdown",
   "metadata": {},
   "source": [
    "Create a train/test split of the data"
   ]
  }
 ],
 "metadata": {
  "kernelspec": {
   "display_name": "Python 3",
   "language": "python",
   "name": "python3"
  },
  "language_info": {
   "codemirror_mode": {
    "name": "ipython",
    "version": 3
   },
   "file_extension": ".py",
   "mimetype": "text/x-python",
   "name": "python",
   "nbconvert_exporter": "python",
   "pygments_lexer": "ipython3",
   "version": "3.6.2"
  }
 },
 "nbformat": 4,
 "nbformat_minor": 2
}
