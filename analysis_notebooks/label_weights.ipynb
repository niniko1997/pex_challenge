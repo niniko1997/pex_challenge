{
 "cells": [
  {
   "cell_type": "markdown",
   "metadata": {},
   "source": [
    "## Setup"
   ]
  },
  {
   "cell_type": "code",
   "execution_count": null,
   "metadata": {},
   "outputs": [],
   "source": [
    "import numpy as np\n",
    "import pandas as pd\n",
    "from pathlib import Path\n",
    "import os\n",
    "import math\n",
    "import sklearn\n",
    "from glob import glob\n",
    "import tensorflow as tf\n",
    "from IPython.display import YouTubeVideo"
   ]
  },
  {
   "cell_type": "code",
   "execution_count": null,
   "metadata": {},
   "outputs": [],
   "source": [
    "%pwd"
   ]
  },
  {
   "cell_type": "code",
   "execution_count": null,
   "metadata": {
    "collapsed": true
   },
   "outputs": [],
   "source": [
    "# project directory\n",
    "project_dir = Path('/Users/administrator/Documents/pex_challenge/')\n",
    "data_dir = project_dir.joinpath('data/yt8m/frame')"
   ]
  },
  {
   "cell_type": "markdown",
   "metadata": {},
   "source": [
    "### Load Vocabulary CSV"
   ]
  },
  {
   "cell_type": "code",
   "execution_count": null,
   "metadata": {},
   "outputs": [],
   "source": [
    "# get data on the labels for videos\n",
    "label_file = project_dir.joinpath('data/vocabulary.csv')\n",
    "# read the csv that contains infromation about labels of videos into dataframe\n",
    "df_labels = pd.read_csv(label_file.as_posix(), sep=',')"
   ]
  },
  {
   "cell_type": "markdown",
   "metadata": {},
   "source": [
    "### Generate Weights for each Label"
   ]
  },
  {
   "cell_type": "code",
   "execution_count": null,
   "metadata": {
    "collapsed": true
   },
   "outputs": [],
   "source": [
    "def generate_weights(df):\n",
    "    '''\n",
    "    This function interates through the rows of the vocabulary csv\n",
    "    and it gives a weight to each label on probability that it corresponds to something indoor\n",
    "    based on the name and definition. It returns a df with an additional column corresponding to weights\n",
    "    '''\n",
    "    \n",
    "    weights = []\n",
    "    indoor_markers = ['room','office','indoor', 'class', 'house', 'home', 'gym', 'facility', 'building', 'kitchen',\n",
    "                     'tv', 'computer', 'library', 'cafe', 'restaurant', 'concert', 'guitar', 'pet', 'game',\n",
    "                     'theatre', 'performance art', 'movie', 'film', 'lunch', 'cook', 'recipe', 'instrument', 'store', \n",
    "                     'shop', 'food', 'sing', 'art', 'hair', 'draw', 'anime', 'beauty', 'makeup', 'roof', 'floor',\n",
    "                     'wall', 'corner', 'party', 'school', 'bake', 'dress']\n",
    "    outdoor_markers = ['cycling', 'cycle', 'fish', 'fishing', 'transport', 'outdoor', 'outside', 'sun',\n",
    "                      'sport', 'soccer', 'skate', 'football', 'snow', 'rain', 'wind', 'storm', 'amusement park',\n",
    "                      'bike', 'weather', 'surf', 'ocean', 'tree', 'sky', 'run', 'farm', 'car', 'nature', 'resort',\n",
    "                      'pool', 'street', 'ave', 'walk']\n",
    "    \n",
    "    #iterate through the dataframe\n",
    "    for row in df.iterrows():\n",
    "        weight = 0.5\n",
    "        for i_marker in indoor_markers:\n",
    "            if i_marker in str(row[1].Name).lower() or i_marker in str(row[1].WikiDescription).lower():\n",
    "                weight = 0.8\n",
    "        for o_marker in outdoor_markers:\n",
    "            if o_marker in str(row[1].Name).lower() or o_marker in str(row[1].WikiDescription).lower() and weight == 0.5:\n",
    "                weight = 0.2\n",
    "        weights.append(weight)\n",
    "    \n",
    "    df['weights'] = weights\n",
    "    return df"
   ]
  },
  {
   "cell_type": "code",
   "execution_count": null,
   "metadata": {},
   "outputs": [],
   "source": [
    "generate_weights(df_labels)"
   ]
  },
  {
   "cell_type": "code",
   "execution_count": null,
   "metadata": {},
   "outputs": [],
   "source": [
    "df_labels.to_csv(project_dir.joinpath('data/vocabulary_with_weights.csv').as_posix())"
   ]
  }
 ],
 "metadata": {
  "kernelspec": {
   "display_name": "Python 3",
   "language": "python",
   "name": "python3"
  },
  "language_info": {
   "codemirror_mode": {
    "name": "ipython",
    "version": 3
   },
   "file_extension": ".py",
   "mimetype": "text/x-python",
   "name": "python",
   "nbconvert_exporter": "python",
   "pygments_lexer": "ipython3",
   "version": "3.6.2"
  }
 },
 "nbformat": 4,
 "nbformat_minor": 2
}
