{
 "cells": [
  {
   "cell_type": "markdown",
   "metadata": {},
   "source": [
    "### Setup"
   ]
  },
  {
   "cell_type": "code",
   "execution_count": 1,
   "metadata": {},
   "outputs": [
    {
     "name": "stderr",
     "output_type": "stream",
     "text": [
      "/Users/administrator/miniconda3/envs/dsst_env/lib/python3.6/site-packages/sklearn/utils/fixes.py:313: FutureWarning: numpy not_equal will not check object identity in the future. The comparison did not return the same result as suggested by the identity (`is`)) and will change.\n",
      "  _nan_object_mask = _nan_object_array != _nan_object_array\n"
     ]
    }
   ],
   "source": [
    "import numpy as np\n",
    "import pandas as pd\n",
    "from pathlib import Path\n",
    "import os\n",
    "import math\n",
    "import sklearn\n",
    "from glob import glob\n",
    "import tensorflow as tf\n",
    "from IPython.display import YouTubeVideo"
   ]
  },
  {
   "cell_type": "code",
   "execution_count": 2,
   "metadata": {
    "collapsed": true
   },
   "outputs": [],
   "source": [
    "# project directory\n",
    "project_dir = Path('/Users/administrator/Documents/pex_challenge/')\n",
    "data_dir = project_dir.joinpath('data/yt8m/frame')"
   ]
  },
  {
   "cell_type": "code",
   "execution_count": null,
   "metadata": {
    "collapsed": true
   },
   "outputs": [],
   "source": [
    "# load the model from disk\n",
    "loaded_model = pickle.load(open(filename, 'rb'))\n",
    "result = loaded_model.score(X_test, Y_test)\n",
    "print(result)"
   ]
  },
  {
   "cell_type": "code",
   "execution_count": null,
   "metadata": {
    "collapsed": true
   },
   "outputs": [],
   "source": [
    "def main():\n",
    "    import argparse\n",
    "    import sys\n",
    "\n",
    "    class MyParser(argparse.ArgumentParser):\n",
    "        def error(self, message):\n",
    "            sys.stderr.write('error: %s\\n' % message)\n",
    "            self.print_help()\n",
    "            sys.exit(2)\n",
    "\n",
    "    parser = MyParser(\n",
    "        description=\"Image classifier as indoor or outdoor.\",\n",
    "        fromfile_prefix_chars='@',\n",
    "        )\n",
    "    # Specify parameters\n",
    "    parser.add_argument(\n",
    "        \"image\",\n",
    "        help=\"path to the image that you want to classify\",\n",
    "        metavar=\"image\")\n",
    "    \n",
    "    # extract parameters from comman line input\n",
    "    args = parser.parse_args()\n",
    "    image = vars(args)['image']\n",
    "    \n",
    "\n",
    "if __name__ == '__main__':\n",
    "    main()"
   ]
  },
  {
   "cell_type": "code",
   "execution_count": 3,
   "metadata": {
    "collapsed": true
   },
   "outputs": [],
   "source": [
    "from feature_extraction import YouTube8MFeatureExtractor"
   ]
  },
  {
   "cell_type": "code",
   "execution_count": 10,
   "metadata": {
    "collapsed": true
   },
   "outputs": [],
   "source": [
    "from PIL import Image"
   ]
  },
  {
   "cell_type": "code",
   "execution_count": 5,
   "metadata": {},
   "outputs": [],
   "source": [
    "extractor = YouTube8MFeatureExtractor()"
   ]
  },
  {
   "cell_type": "code",
   "execution_count": null,
   "metadata": {},
   "outputs": [],
   "source": [
    "image_file = '/Users/administrator/Downloads/IMG_1055.JPG'\n",
    "im = np.array(Image.open(image_file))\n",
    "features = extractor.extract_rgb_frame_features(im)"
   ]
  },
  {
   "cell_type": "code",
   "execution_count": 13,
   "metadata": {
    "collapsed": true
   },
   "outputs": [],
   "source": [
    "features = extractor.extract_rgb_frame_features(im)"
   ]
  },
  {
   "cell_type": "code",
   "execution_count": 20,
   "metadata": {},
   "outputs": [
    {
     "data": {
      "text/plain": [
       "array([ 1.38124728,  0.90118098, -0.23508626], dtype=float32)"
      ]
     },
     "execution_count": 20,
     "metadata": {},
     "output_type": "execute_result"
    }
   ],
   "source": [
    "features[:3]"
   ]
  },
  {
   "cell_type": "code",
   "execution_count": 30,
   "metadata": {},
   "outputs": [],
   "source": [
    "X = pd.DataFrame([])\n",
    "row_dict = {}\n",
    "for i in range(len(features)):\n",
    "    row_dict['rgb' + str(i)] = features[i]\n",
    "X = X.append(row_dict, ignore_index=True)"
   ]
  },
  {
   "cell_type": "code",
   "execution_count": 31,
   "metadata": {},
   "outputs": [
    {
     "data": {
      "text/html": [
       "<div>\n",
       "<style>\n",
       "    .dataframe thead tr:only-child th {\n",
       "        text-align: right;\n",
       "    }\n",
       "\n",
       "    .dataframe thead th {\n",
       "        text-align: left;\n",
       "    }\n",
       "\n",
       "    .dataframe tbody tr th {\n",
       "        vertical-align: top;\n",
       "    }\n",
       "</style>\n",
       "<table border=\"1\" class=\"dataframe\">\n",
       "  <thead>\n",
       "    <tr style=\"text-align: right;\">\n",
       "      <th></th>\n",
       "      <th>rgb0</th>\n",
       "      <th>rgb1</th>\n",
       "      <th>rgb10</th>\n",
       "      <th>rgb100</th>\n",
       "      <th>rgb1000</th>\n",
       "      <th>rgb1001</th>\n",
       "      <th>rgb1002</th>\n",
       "      <th>rgb1003</th>\n",
       "      <th>rgb1004</th>\n",
       "      <th>rgb1005</th>\n",
       "      <th>...</th>\n",
       "      <th>rgb990</th>\n",
       "      <th>rgb991</th>\n",
       "      <th>rgb992</th>\n",
       "      <th>rgb993</th>\n",
       "      <th>rgb994</th>\n",
       "      <th>rgb995</th>\n",
       "      <th>rgb996</th>\n",
       "      <th>rgb997</th>\n",
       "      <th>rgb998</th>\n",
       "      <th>rgb999</th>\n",
       "    </tr>\n",
       "  </thead>\n",
       "  <tbody>\n",
       "    <tr>\n",
       "      <th>0</th>\n",
       "      <td>1.381247</td>\n",
       "      <td>0.901181</td>\n",
       "      <td>-0.969442</td>\n",
       "      <td>0.19325</td>\n",
       "      <td>-1.134189</td>\n",
       "      <td>0.656547</td>\n",
       "      <td>-0.638674</td>\n",
       "      <td>-0.114881</td>\n",
       "      <td>0.520566</td>\n",
       "      <td>-1.952702</td>\n",
       "      <td>...</td>\n",
       "      <td>-0.373069</td>\n",
       "      <td>2.472154</td>\n",
       "      <td>1.346167</td>\n",
       "      <td>-1.009169</td>\n",
       "      <td>0.39462</td>\n",
       "      <td>0.429472</td>\n",
       "      <td>-0.262035</td>\n",
       "      <td>2.164318</td>\n",
       "      <td>-0.079326</td>\n",
       "      <td>-0.625993</td>\n",
       "    </tr>\n",
       "  </tbody>\n",
       "</table>\n",
       "<p>1 rows × 1024 columns</p>\n",
       "</div>"
      ],
      "text/plain": [
       "       rgb0      rgb1     rgb10   rgb100   rgb1000   rgb1001   rgb1002  \\\n",
       "0  1.381247  0.901181 -0.969442  0.19325 -1.134189  0.656547 -0.638674   \n",
       "\n",
       "    rgb1003   rgb1004   rgb1005    ...       rgb990    rgb991    rgb992  \\\n",
       "0 -0.114881  0.520566 -1.952702    ...    -0.373069  2.472154  1.346167   \n",
       "\n",
       "     rgb993   rgb994    rgb995    rgb996    rgb997    rgb998    rgb999  \n",
       "0 -1.009169  0.39462  0.429472 -0.262035  2.164318 -0.079326 -0.625993  \n",
       "\n",
       "[1 rows x 1024 columns]"
      ]
     },
     "execution_count": 31,
     "metadata": {},
     "output_type": "execute_result"
    }
   ],
   "source": [
    "X"
   ]
  },
  {
   "cell_type": "code",
   "execution_count": 32,
   "metadata": {},
   "outputs": [
    {
     "name": "stdout",
     "output_type": "stream",
     "text": [
      "[1]\n"
     ]
    }
   ],
   "source": [
    "# load the model from disk\n",
    "import pickle \n",
    "filename = project_dir.joinpath('model.sav')\n",
    "loaded_model = pickle.load(open(filename, 'rb'))\n",
    "result = loaded_model.predict(X)\n",
    "print(result)"
   ]
  },
  {
   "cell_type": "code",
   "execution_count": null,
   "metadata": {
    "collapsed": true
   },
   "outputs": [],
   "source": []
  }
 ],
 "metadata": {
  "kernelspec": {
   "display_name": "Python 3",
   "language": "python",
   "name": "python3"
  },
  "language_info": {
   "codemirror_mode": {
    "name": "ipython",
    "version": 3
   },
   "file_extension": ".py",
   "mimetype": "text/x-python",
   "name": "python",
   "nbconvert_exporter": "python",
   "pygments_lexer": "ipython3",
   "version": "3.6.2"
  }
 },
 "nbformat": 4,
 "nbformat_minor": 2
}
